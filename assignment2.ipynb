{
 "cells": [
  {
   "cell_type": "code",
   "execution_count": 1,
   "metadata": {},
   "outputs": [
    {
     "name": "stderr",
     "output_type": "stream",
     "text": [
      "┌ Info: Xpress: Found license file C:\\xpressmp\\bin\\xpauth.xpr\n",
      "└ @ Xpress C:\\Users\\tjfur\\.julia\\packages\\Xpress\\eJoYN\\src\\license.jl:44\n",
      "┌ Info: Xpress: Development license detected.\n",
      "└ @ Xpress C:\\Users\\tjfur\\.julia\\packages\\Xpress\\eJoYN\\src\\license.jl:89\n"
     ]
    }
   ],
   "source": [
    "using JuMP\n",
    "using GLPK\n",
    "using LinearAlgebra,Cbc\n",
    "using Xpress"
   ]
  },
  {
   "cell_type": "markdown",
   "metadata": {},
   "source": [
    "Question 1"
   ]
  },
  {
   "cell_type": "markdown",
   "metadata": {},
   "source": [
    "## Answer\n",
    "Let the ith item have a utility $u_i$ dollars and weight $w_i$ Kg. The hiker wants to select a subset with maximum utility, such that the summation of the weights of the selected items is less or equal to 15 Kg and I must pick atleast three items.\n",
    " \n",
    "Considering a set of decision binary variables $𝑥_𝑖$ that receive value 1 if the $𝑖-th$ item is selected, and 0 if it is not selected, the resulting mathematical programming formulation is:\n",
    "\n",
    "$$Maximise\\ \\sum_{i\\in I}u_i.x_i$$\n",
    "$$s.t.\\ \\sum_{i\\in I}w_i.x_i \\le W$$\n",
    "$$x_i\\in\\{0,1\\}\\ \\ \\ \\forall i\\in I$$"
   ]
  },
  {
   "cell_type": "code",
   "execution_count": 8,
   "metadata": {},
   "outputs": [
    {
     "name": "stdout",
     "output_type": "stream",
     "text": [
      "FICO Xpress v8.12.3, Community, solve started 16:06:00, Nov 30, 2021\n",
      "Heap usage: 81KB (peak 81KB, 955KB system)\n",
      "Maximizing MILP  with these control settings:\n",
      "OUTPUTLOG = 1\n",
      "MPSNAMELENGTH = 64\n",
      "CALLBACKFROMMASTERTHREAD = 1\n",
      "Original problem has:\n",
      "         1 rows            6 cols            6 elements         6 globals\n",
      "Presolved problem has:\n",
      "         1 rows            6 cols            6 elements         6 globals\n",
      "Presolve finished in 0 seconds\n",
      "Heap usage: 107KB (peak 120KB, 957KB system)\n",
      "\n",
      "Coefficient range                    original                 solved        \n",
      "  Coefficients   [min,max] : [ 1.00e+00,  8.00e+00] / [ 1.25e-01,  1.00e+00]\n",
      "  RHS and bounds [min,max] : [ 1.00e+00,  1.50e+01] / [ 1.00e+00,  1.88e+00]\n",
      "  Objective      [min,max] : [ 1.00e+00,  7.00e+00] / [ 1.00e+00,  7.00e+00]\n",
      "Autoscaling applied standard scaling\n",
      "\n",
      "Will try to keep branch and bound tree memory usage below 4.8GB\n",
      " *** Solution found:      .000000   Time:   0    Heuristic: T ***\n",
      " *** Solution found:    16.000000   Time:   0    Heuristic: e ***\n",
      "Starting concurrent solve with dual\n",
      "\n",
      " Concurrent-Solve,   0s\n",
      "            Dual        \n",
      "    objective   dual inf\n",
      " D  18.400000   .0000000\n",
      "------- optimal --------\n",
      "Concurrent statistics:\n",
      "      Dual: 1 simplex iterations, 0.00s\n",
      "Optimal solution found\n",
      " \n",
      "   Its         Obj Value      S   Ninf  Nneg   Sum Dual Inf  Time\n",
      "     1         18.400000      D      0     0        .000000     0\n",
      "Dual solved problem\n",
      "  1 simplex iterations in 0.00 seconds at time 0\n",
      "\n",
      "Final objective                       : 1.840000000000000e+01\n",
      "  Max primal violation      (abs/rel) :       0.0 /       0.0\n",
      "  Max dual violation        (abs/rel) :       0.0 /       0.0\n",
      "  Max complementarity viol. (abs/rel) :       0.0 /       0.0\n",
      "\n",
      "Starting root cutting & heuristics\n",
      " \n",
      " Its Type    BestSoln    BestBound   Sols    Add    Del     Gap     GInf   Time\n",
      " *** Search completed ***\n",
      "Uncrunching matrix\n",
      "Final MIP objective                   : 1.600000000000000e+01\n",
      "Final MIP bound                       : 1.600000000000000e+01\n",
      "  Solution time / primaldual integral :         0s/ 65.997534%\n",
      "  Number of solutions found / nodes   :         2 /         1\n",
      "  Max primal violation      (abs/rel) :       0.0 /       0.0\n",
      "  Max integer violation     (abs    ) :       0.0\n",
      "The best utility the hiker can get is: 16.0\n",
      "Solution is:\n",
      "x[1] = 0.0, p[1]/w[1] = 0.8\n",
      "x[2] = 0.0, p[2]/w[2] = 0.25\n",
      "x[3] = 0.0, p[3]/w[3] = 0.125\n",
      "x[4] = 1.0, p[4]/w[4] = 1.1666666666666667\n",
      "x[5] = 1.0, p[5]/w[5] = 3.0\n",
      "x[6] = 1.0, p[6]/w[6] = 1.2\n"
     ]
    }
   ],
   "source": [
    "using JuMP\n",
    "import GLPK\n",
    "import Test\n",
    "\n",
    "profit = [4, 2, 1, 7, 3, 6]\n",
    "weight = [5, 8, 8, 6, 1, 5]\n",
    "capacity = 15\n",
    "model = Model(Xpress.Optimizer)\n",
    "@variable(model, x[1:6], Bin)\n",
    "# Objective: maximize profit\n",
    "@objective(model, Max, profit' * x)\n",
    "# Constraint: can carry all\n",
    "@constraint(model, weight' * x <= capacity)\n",
    "# Constraint must pick three items\n",
    "@constraint(Q1, (sum(x[i] for i=1:6)) >= 3\n",
    "# Solve problem using MIP solver\n",
    "optimize!(model)\n",
    "\n",
    "println(\"The best utility the hiker can get is: \", objective_value(model))\n",
    "println(\"Solution is:\")\n",
    "\n",
    "for i in 1:6\n",
    "    print(\"x[$i] = \", value(x[i]))\n",
    "    println(\", p[$i]/w[$i] = \", profit[i] / weight[i])\n",
    "end"
   ]
  },
  {
   "cell_type": "markdown",
   "metadata": {},
   "source": [
    "# Question 2\n",
    "Consider the following binary integer program.\n",
    "\n",
    "$$ Maximise\\ 12x_1+x_2+10x_3+2x_4 $$\n",
    "$$s.t.$$\n",
    "$$ 16x_1+2x_2+10x_3+8x_4\\le 18 $$\n",
    "$$x_i\\ is\\ binary\\ for\\ j=1,...,4$$\n",
    "\n",
    "Use the branch-and-bound method to find an optimal solution to this problem. You can use Julia/JuMP and a solver to solve the LP relaxations of the subproblems resulting from fixing some decision variables at 0 or 1. \n",
    "\n",
    "Please do not use the Julia/JuMP and the solver to directly solve the ILP itself."
   ]
  },
  {
   "cell_type": "markdown",
   "metadata": {},
   "source": [
    "# Answer\n",
    "\n",
    "Let's start by fixing the variable $x_1$.\n",
    "Fixing $x_1=0$\n",
    "$$ Maximise\\ \\ \\ x_2+10x_3+2x_4 $$\n",
    "$$s.t.$$\n",
    "$$ \\ \\ 2x_2+10x_3+8x_4\\le 18 $$\n",
    "$$0\\le x_i\\le 1\\ for\\ j=\\ \\ 2,...,4$$"
   ]
  },
  {
   "cell_type": "code",
   "execution_count": 15,
   "metadata": {},
   "outputs": [
    {
     "name": "stdout",
     "output_type": "stream",
     "text": [
      "x1-x4 value: 0.0, 1.0, 1.0, 0.75\n",
      "objective value: 12.5\n"
     ]
    }
   ],
   "source": [
    "model = Model(GLPK.Optimizer)  \n",
    "@variable(model, x1==0)\n",
    "@variable(model, 0 <= x2 <= 1)\n",
    "@variable(model, 0 <= x3 <= 1 )\n",
    "@variable(model, 0 <= x4 <= 1 )\n",
    "# Constraints\n",
    "# @constraint(model, x2 >= 0)\n",
    "#@constraint(model, x2 <=0)\n",
    "@constraint(model, 16x1 + 2x2 + 10x3 + 8x4 <= 18)\n",
    "\n",
    "# Objective Function:\n",
    "@objective(model, Max, 12x1 + x2 + 10x3 + 2x4)\n",
    "optimize!(model)\n",
    "\n",
    "if termination_status(model) == MOI.OPTIMAL\n",
    "    println(\"x1-x4 value: $(value(x1)), $(value(x2)), $(value(x3)), $(value(x4))\")\n",
    "    println(\"objective value: \",objective_value(model))\n",
    "elseif termination_status(model) == MOI.INFEASIBLE\n",
    "    println(\"The model is infeasible\")\n",
    "else\n",
    "    println(\"The model didn't solve properly for some other reason.\")\n",
    "end"
   ]
  },
  {
   "cell_type": "markdown",
   "metadata": {},
   "source": [
    "Lets explore when we set x1 = 1"
   ]
  },
  {
   "cell_type": "code",
   "execution_count": 16,
   "metadata": {},
   "outputs": [
    {
     "name": "stdout",
     "output_type": "stream",
     "text": [
      "x1-x4 value: 1.0, 0.0, 0.2, 0.0\n",
      "objective value: 14.0\n"
     ]
    }
   ],
   "source": [
    "model = Model(GLPK.Optimizer)  \n",
    "@variable(model, x1==1)\n",
    "@variable(model, 0 <= x2 <= 1)\n",
    "@variable(model, 0 <= x3 <= 1 )\n",
    "@variable(model, 0 <= x4 <= 1 )\n",
    "# Constraints\n",
    "# @constraint(model, x2 >= 0)\n",
    "#@constraint(model, x2 <=0)\n",
    "@constraint(model, 16x1 + 2x2 + 10x3 + 8x4 <= 18)\n",
    "\n",
    "# Objective Function:\n",
    "@objective(model, Max, 12x1 + x2 + 10x3 + 2x4)\n",
    "optimize!(model)\n",
    "\n",
    "if termination_status(model) == MOI.OPTIMAL\n",
    "    println(\"x1-x4 value: $(value(x1)), $(value(x2)), $(value(x3)), $(value(x4))\")\n",
    "    println(\"objective value: \",objective_value(model))\n",
    "elseif termination_status(model) == MOI.INFEASIBLE\n",
    "    println(\"The model is infeasible\")\n",
    "else\n",
    "    println(\"The model didn't solve properly for some other reason.\")\n",
    "end"
   ]
  },
  {
   "cell_type": "markdown",
   "metadata": {},
   "source": [
    "Since this is a maximisation problem, LP gave us a upper bound of 14 when $x1 = 1$. This branch needs to be explored further by fixing other variables. Let's fix x2 = 0 and x2 = 1."
   ]
  },
  {
   "cell_type": "markdown",
   "metadata": {},
   "source": [
    "Fixing $x_1=1, x_2=0$\n",
    "$$ Maximise\\ \\ \\ 12 + 10x_3+2x_4 $$\n",
    "$$s.t.$$\n",
    "$$ \\ \\ 16+10x_3+8x_4\\le 18 $$\n",
    "$$0\\le x_i\\le 1\\ for\\ j=\\ \\ 3,4$$"
   ]
  },
  {
   "cell_type": "code",
   "execution_count": 17,
   "metadata": {},
   "outputs": [
    {
     "name": "stdout",
     "output_type": "stream",
     "text": [
      "x1-x4 value: 1.0, 0.0, 0.2, 0.0\n",
      "objective value: 14.0\n"
     ]
    }
   ],
   "source": [
    "model = Model(GLPK.Optimizer)  \n",
    "@variable(model, x1==1)\n",
    "@variable(model, x2==0)\n",
    "@variable(model, 0 <= x3 <= 1 )\n",
    "@variable(model, 0 <= x4 <= 1 )\n",
    "# Constraints\n",
    "# @constraint(model, x2 >= 0)\n",
    "#@constraint(model, x2 <=0)\n",
    "@constraint(model, 16x1 + 2x2 + 10x3 + 8x4 <= 18)\n",
    "\n",
    "# Objective Function:\n",
    "@objective(model, Max, 12x1 + x2 + 10x3 + 2x4)\n",
    "optimize!(model)\n",
    "\n",
    "if termination_status(model) == MOI.OPTIMAL\n",
    "    println(\"x1-x4 value: $(value(x1)), $(value(x2)), $(value(x3)), $(value(x4))\")\n",
    "    println(\"objective value: \",objective_value(model))\n",
    "elseif termination_status(model) == MOI.INFEASIBLE\n",
    "    println(\"The model is infeasible\")\n",
    "else\n",
    "    println(\"The model didn't solve properly for some other reason.\")\n",
    "end"
   ]
  },
  {
   "cell_type": "markdown",
   "metadata": {},
   "source": [
    "Fixing $x_1=1, x_2=1$\n",
    "$$ Maximise\\ \\ \\ 12+1+10x_3+2x_4 $$\n",
    "$$s.t.$$\n",
    "$$ \\ \\ 16+2+10x_3+8x_4\\le 18 $$\n",
    "$$0\\le x_i\\le 1\\ for\\ j=\\ \\ 3,4$$"
   ]
  },
  {
   "cell_type": "code",
   "execution_count": 18,
   "metadata": {},
   "outputs": [
    {
     "name": "stdout",
     "output_type": "stream",
     "text": [
      "x1-x4 value: 1.0, 1.0, 0.0, 0.0\n",
      "objective value: 13.0\n"
     ]
    }
   ],
   "source": [
    "model = Model(GLPK.Optimizer)  \n",
    "@variable(model, x1==1)\n",
    "@variable(model, x2==1)\n",
    "@variable(model, 0 <= x3 <= 1 )\n",
    "@variable(model, 0 <= x4 <= 1 )\n",
    "# Constraints\n",
    "# @constraint(model, x2 >= 0)\n",
    "#@constraint(model, x2 <=0)\n",
    "@constraint(model, 16x1 + 2x2 + 10x3 + 8x4 <= 18)\n",
    "\n",
    "# Objective Function:\n",
    "@objective(model, Max, 12x1 + x2 + 10x3 + 2x4)\n",
    "optimize!(model)\n",
    "\n",
    "if termination_status(model) == MOI.OPTIMAL\n",
    "    println(\"x1-x4 value: $(value(x1)), $(value(x2)), $(value(x3)), $(value(x4))\")\n",
    "    println(\"objective value: \",objective_value(model))\n",
    "elseif termination_status(model) == MOI.INFEASIBLE\n",
    "    println(\"The model is infeasible\")\n",
    "else\n",
    "    println(\"The model didn't solve properly for some other reason.\")\n",
    "end"
   ]
  },
  {
   "cell_type": "markdown",
   "metadata": {},
   "source": [
    "when $x2=0$ the LP gave us an upper bound of 14, but we cannot have decimals, unfortunately $x3$ was 0.2 so we explore this branch when $x2=1$ by fixing the $x3=1, x3=0$"
   ]
  },
  {
   "cell_type": "markdown",
   "metadata": {},
   "source": [
    "Fixing $x_1=1, x_2=1, x_3=0$\n",
    "$$ Maximise\\ \\ \\ 12 + 1 + 2x_4 $$\n",
    "$$s.t.$$\n",
    "$$ \\ \\ 16 + 2 + 8x_4\\le 18 $$\n",
    "$$0\\le x_i\\le 1\\ for\\ j=\\ \\ 4$$"
   ]
  },
  {
   "cell_type": "code",
   "execution_count": 3,
   "metadata": {},
   "outputs": [
    {
     "name": "stdout",
     "output_type": "stream",
     "text": [
      "x1-x4 value: 1.0, 1.0, 0.0, 0.0\n",
      "objective value: 13.0\n"
     ]
    }
   ],
   "source": [
    "model = Model(GLPK.Optimizer)  \n",
    "@variable(model, x1==1)\n",
    "@variable(model, x2==1)\n",
    "@variable(model, x3==0)\n",
    "@variable(model, 0 <= x4 <= 1 )\n",
    "# Constraints\n",
    "# @constraint(model, x2 >= 0)\n",
    "#@constraint(model, x2 <=0)\n",
    "@constraint(model, 16x1 + 2x2 + 10x3 + 8x4 <= 18)\n",
    "\n",
    "# Objective Function:\n",
    "@objective(model, Max, 12x1 + x2 + 10x3 + 2x4)\n",
    "optimize!(model)\n",
    "\n",
    "if termination_status(model) == MOI.OPTIMAL\n",
    "    println(\"x1-x4 value: $(value(x1)), $(value(x2)), $(value(x3)), $(value(x4))\")\n",
    "    println(\"objective value: \",objective_value(model))\n",
    "elseif termination_status(model) == MOI.INFEASIBLE\n",
    "    println(\"The model is infeasible\")\n",
    "else\n",
    "    println(\"The model didn't solve properly for some other reason.\")\n",
    "end"
   ]
  },
  {
   "cell_type": "markdown",
   "metadata": {},
   "source": [
    "Fixing $x_1=1, x_2=0, x_3=1$\n",
    "$$ Maximise\\ \\ \\ 12 + 10 + 2x_4 $$\n",
    "$$s.t.$$\n",
    "$$ \\ \\ 16 + 10 + 8x_4\\le 18 $$\n",
    "$$0\\le x_i\\le 1\\ for\\ j=\\ \\ 4$$"
   ]
  },
  {
   "cell_type": "code",
   "execution_count": 5,
   "metadata": {},
   "outputs": [
    {
     "name": "stdout",
     "output_type": "stream",
     "text": [
      "The model is infeasible\n"
     ]
    }
   ],
   "source": [
    "model = Model(GLPK.Optimizer)  \n",
    "@variable(model, x1==1)\n",
    "@variable(model, x2==1)\n",
    "@variable(model, x3==1)\n",
    "@variable(model, 0 <= x4 <= 1 )\n",
    "# Constraints\n",
    "# @constraint(model, x2 >= 0)\n",
    "#@constraint(model, x2 <=0)\n",
    "@constraint(model, 16x1 + 2x2 + 10x3 + 8x4 <= 18)\n",
    "\n",
    "# Objective Function:\n",
    "@objective(model, Max, 12x1 + x2 + 10x3 + 2x4)\n",
    "optimize!(model)\n",
    "\n",
    "if termination_status(model) == MOI.OPTIMAL\n",
    "    println(\"x1-x4 value: $(value(x1)), $(value(x2)), $(value(x3)), $(value(x4))\")\n",
    "    println(\"objective value: \",objective_value(model))\n",
    "elseif termination_status(model) == MOI.INFEASIBLE\n",
    "    println(\"The model is infeasible\")\n",
    "else\n",
    "    println(\"The model didn't solve properly for some other reason.\")\n",
    "end"
   ]
  },
  {
   "cell_type": "markdown",
   "metadata": {},
   "source": [
    "This results in an infeasible solution, the branch $x3=1$ can be fathomed.Lets explore when we fix $x4=1, x4=0$"
   ]
  },
  {
   "cell_type": "markdown",
   "metadata": {},
   "source": [
    "Fixing $x_1=1, x_2=1, x_3=0, x_4=0$\n",
    "$$ Maximise\\ \\ \\ 12  $$\n",
    "$$s.t.$$\n",
    "$$ \\ \\ 16 \\le 18 $$\n",
    "$$0\\le x_i\\le 1\\ for\\ j=\\ \\ 4$$"
   ]
  },
  {
   "cell_type": "code",
   "execution_count": 7,
   "metadata": {},
   "outputs": [
    {
     "name": "stdout",
     "output_type": "stream",
     "text": [
      "x1-x4 value: 1.0, 1.0, 0.0, 0.0\n",
      "objective value: 13.0\n"
     ]
    }
   ],
   "source": [
    "model = Model(GLPK.Optimizer)  \n",
    "@variable(model, x1==1)\n",
    "@variable(model, x2==1)\n",
    "@variable(model, x3==0)\n",
    "@variable(model, x4==0)\n",
    "# Constraints\n",
    "# @constraint(model, x2 >= 0)\n",
    "#@constraint(model, x2 <=0)\n",
    "@constraint(model, 16x1 + 2x2 + 10x3 + 8x4 <= 18)\n",
    "\n",
    "# Objective Function:\n",
    "@objective(model, Max, 12x1 + x2 + 10x3 + 2x4)\n",
    "optimize!(model)\n",
    "\n",
    "if termination_status(model) == MOI.OPTIMAL\n",
    "    println(\"x1-x4 value: $(value(x1)), $(value(x2)), $(value(x3)), $(value(x4))\")\n",
    "    println(\"objective value: \",objective_value(model))\n",
    "elseif termination_status(model) == MOI.INFEASIBLE\n",
    "    println(\"The model is infeasible\")\n",
    "else\n",
    "    println(\"The model didn't solve properly for some other reason.\")\n",
    "end"
   ]
  },
  {
   "cell_type": "markdown",
   "metadata": {},
   "source": [
    "Fixing $x_1=1, x_2=1, x_3=0 x_4=1$\n",
    "$$ Maximise\\ \\ \\ 12 +2$$\n",
    "$$s.t.$$\n",
    "$$ \\ \\ 16 + 8\\le 18 $$\n",
    "$$0\\le x_i\\le 1\\ for\\ j=\\ \\ 4$$"
   ]
  },
  {
   "cell_type": "code",
   "execution_count": 8,
   "metadata": {},
   "outputs": [
    {
     "name": "stdout",
     "output_type": "stream",
     "text": [
      "The model is infeasible\n"
     ]
    }
   ],
   "source": [
    "model = Model(GLPK.Optimizer)  \n",
    "@variable(model, x1==1)\n",
    "@variable(model, x2==1)\n",
    "@variable(model, x3==0)\n",
    "@variable(model, x4==1)\n",
    "# Constraints\n",
    "# @constraint(model, x2 >= 0)\n",
    "#@constraint(model, x2 <=0)\n",
    "@constraint(model, 16x1 + 2x2 + 10x3 + 8x4 <= 18)\n",
    "\n",
    "# Objective Function:\n",
    "@objective(model, Max, 12x1 + x2 + 10x3 + 2x4)\n",
    "optimize!(model)\n",
    "\n",
    "if termination_status(model) == MOI.OPTIMAL\n",
    "    println(\"x1-x4 value: $(value(x1)), $(value(x2)), $(value(x3)), $(value(x4))\")\n",
    "    println(\"objective value: \",objective_value(model))\n",
    "elseif termination_status(model) == MOI.INFEASIBLE\n",
    "    println(\"The model is infeasible\")\n",
    "else\n",
    "    println(\"The model didn't solve properly for some other reason.\")\n",
    "end"
   ]
  },
  {
   "cell_type": "markdown",
   "metadata": {},
   "source": [
    "When $x4=1$ the LP is infeasible so we can fathom this branch."
   ]
  },
  {
   "cell_type": "markdown",
   "metadata": {},
   "source": [
    "We have fathomed all infeasible branches. Thus we conclude that the objective value is 13.0 and the optimal solution is $x1, x2 = 1, x3, x4 = 0$."
   ]
  },
  {
   "cell_type": "markdown",
   "metadata": {},
   "source": [
    "# Question 3"
   ]
  },
  {
   "cell_type": "markdown",
   "metadata": {},
   "source": [
    "# Answer"
   ]
  },
  {
   "cell_type": "code",
   "execution_count": 2,
   "metadata": {},
   "outputs": [
    {
     "name": "stdout",
     "output_type": "stream",
     "text": [
      "The minimum cardinality vertext cover for this graph is: 4.0\n",
      "nodes in S1 are : \n",
      "x_2 = 1.0\n",
      "x_3 = 1.0\n",
      "x_4 = 1.0\n",
      "x_6 = 1.0\n"
     ]
    }
   ],
   "source": [
    "model = Model(GLPK.Optimizer)\n",
    "# variables are Binary variables to represent wether a node x_i is in the \n",
    "# minimum vertex cover set S_1 (0 = node not in S_1, 1 = node in S_1)\n",
    "@variable(model, x[1:6], Bin)\n",
    "@objective(model, Min, sum(x))\n",
    "\n",
    "#constraints:\n",
    "#Every edge in this graph needs to be considered as a constraint \n",
    "tuples = [(x[1], x[2]), \n",
    "    (x[2], x[2]), \n",
    "    (x[3], x[1]), \n",
    "    (x[3], x[4]), \n",
    "    (x[5], x[4]), \n",
    "    (x[6], x[5]), \n",
    "    (x[6], x[4])]\n",
    "#To cover all edges (u, v) ∈ E on a graph, we need either u or v in the vertex cover set\n",
    "#Or gate = sum of vertices x_i + x_j >= 1.\n",
    "for edge in tuples\n",
    "    @constraint(model, sum(edge) >= 1)\n",
    "end\n",
    "\n",
    "optimize!(model)\n",
    "println(\"The minimum cardinality vertex cover for this graph is: \", objective_value(model))\n",
    "println(\"nodes in S1 are : \")\n",
    "    \n",
    "for i in 1:6\n",
    "    if value(x[i]) >= 1\n",
    "        println(\"x_$i = \", value(x[i]))\n",
    "    end\n",
    "end"
   ]
  }
 ],
 "metadata": {
  "kernelspec": {
   "display_name": "Julia 1.6.2",
   "language": "julia",
   "name": "julia-1.6"
  },
  "language_info": {
   "file_extension": ".jl",
   "mimetype": "application/julia",
   "name": "julia",
   "version": "1.6.2"
  },
  "orig_nbformat": 4
 },
 "nbformat": 4,
 "nbformat_minor": 2
}
